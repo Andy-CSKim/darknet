{
 "cells": [
  {
   "cell_type": "code",
   "execution_count": null,
   "metadata": {},
   "outputs": [],
   "source": [
    "# install fiftyone"
   ]
  },
  {
   "cell_type": "code",
   "execution_count": 13,
   "metadata": {},
   "outputs": [],
   "source": [
    "import os\n",
    "import shutil\n",
    "import fiftyone as fo\n",
    "import fiftyone.zoo as foz\n",
    "\n",
    "out_dir = \"./\"\n",
    "mv_dir = \"./roadkill/\"\n",
    "data_dir = \"./data/\"\n",
    "\n",
    "class_labels = {\"cow\":'0', \"horse\":'1', \"bear\":'2', \"cat\":'3', \"dog\":'4', \"deer\":'5', \"moose\":'6'}\n",
    "\n",
    "def copy_yolo_txt(cls):\n",
    "\n",
    "    file_names = os.listdir(data_dir)\n",
    "    for fname in file_names:\n",
    "        if \".txt\" in fname:\n",
    "            fin = open(data_dir+fname, \"r\")\n",
    "            fout = open(mv_dir+fname, \"w\")\n",
    "            lines = fin.readlines()\n",
    "\n",
    "            for line in lines:\n",
    "                fout.write(class_labels[cls] +  line[1:])\n",
    "\n",
    "            fin.close()\n",
    "            fout.close()\n",
    "            os.remove(data_dir+fname)\n",
    "        else: # .jpg\n",
    "            shutil.move(data_dir+fname, mv_dir+fname)\n",
    "\n",
    "    os.rmdir(data_dir)\n",
    "\n",
    "def load_class_from_coco(cls, size):  # \"cow\"\n",
    "    classes = [cls]\n",
    "    #sample_size = 100 # increase it to 2,000\n",
    "\n",
    "    dataset = foz.load_zoo_dataset(\n",
    "        \"coco-2017\",\n",
    "        split = \"train\",\n",
    "        label_types=[\"detections\"],\n",
    "        classes=classes,\n",
    "        only_matching = True,   # only classes which we want\n",
    "        max_samples = size\n",
    "    )\n",
    "\n",
    "    # data/, images.txt, obj.names\n",
    "    dataset.export(\n",
    "        dataset_type=fo.types.YOLOv4Dataset,\n",
    "        export_dir=out_dir,  # save in 'data'\n",
    "        classes = classes\n",
    "    )\n",
    "    dataset.delete()\n",
    "\n",
    "    copy_yolo_txt(cls)\n",
    "\n",
    "\n",
    "\n"
   ]
  },
  {
   "cell_type": "code",
   "execution_count": 14,
   "metadata": {},
   "outputs": [
    {
     "name": "stdout",
     "output_type": "stream",
     "text": [
      "Downloading split 'train' to 'C:\\Users\\andy.kim\\fiftyone\\coco-2017\\train' if necessary\n",
      "Found annotations at 'C:\\Users\\andy.kim\\fiftyone\\coco-2017\\raw\\instances_train2017.json'\n",
      "Only found 1968 (<2000) samples matching your requirements\n",
      "200 images found; downloading the remaining 1768\n",
      " 100% |████████████████| 1768/1768 [4.5m elapsed, 0s remaining, 7.3 images/s]      \n",
      "Writing annotations for 2061 downloaded samples to 'C:\\Users\\andy.kim\\fiftyone\\coco-2017\\train\\labels.json'\n",
      "Dataset info written to 'C:\\Users\\andy.kim\\fiftyone\\coco-2017\\info.json'\n",
      "Loading 'coco-2017' split 'train'\n",
      " 100% |███████████████| 1968/1968 [5.7s elapsed, 0s remaining, 377.1 samples/s]      \n",
      "Dataset 'coco-2017-train-2000' created\n",
      "Directory './' already exists; export will be merged with existing files\n",
      " 100% |███████████████| 1968/1968 [14.9s elapsed, 0s remaining, 137.9 samples/s]      \n",
      "Downloading split 'train' to 'C:\\Users\\andy.kim\\fiftyone\\coco-2017\\train' if necessary\n",
      "Found annotations at 'C:\\Users\\andy.kim\\fiftyone\\coco-2017\\raw\\instances_train2017.json'\n",
      "220 images found; downloading the remaining 1780\n",
      " 100% |████████████████| 1780/1780 [4.4m elapsed, 0s remaining, 7.3 images/s]      \n",
      "Writing annotations for 3841 downloaded samples to 'C:\\Users\\andy.kim\\fiftyone\\coco-2017\\train\\labels.json'\n",
      "Dataset info written to 'C:\\Users\\andy.kim\\fiftyone\\coco-2017\\info.json'\n",
      "Loading 'coco-2017' split 'train'\n",
      " 100% |███████████████| 2000/2000 [3.4s elapsed, 0s remaining, 607.0 samples/s]      \n",
      "Dataset 'coco-2017-train-2000' created\n",
      "Directory './' already exists; export will be merged with existing files\n",
      " 100% |███████████████| 2000/2000 [13.9s elapsed, 0s remaining, 131.9 samples/s]      \n",
      "Downloading split 'train' to 'C:\\Users\\andy.kim\\fiftyone\\coco-2017\\train' if necessary\n",
      "Found annotations at 'C:\\Users\\andy.kim\\fiftyone\\coco-2017\\raw\\instances_train2017.json'\n",
      "Only found 960 (<2000) samples matching your requirements\n",
      "1 images found; downloading the remaining 959\n",
      " 100% |██████████████████| 959/959 [2.5m elapsed, 0s remaining, 5.8 images/s]      \n",
      "Writing annotations for 4800 downloaded samples to 'C:\\Users\\andy.kim\\fiftyone\\coco-2017\\train\\labels.json'\n",
      "Dataset info written to 'C:\\Users\\andy.kim\\fiftyone\\coco-2017\\info.json'\n",
      "Loading 'coco-2017' split 'train'\n",
      " 100% |█████████████████| 960/960 [1.1s elapsed, 0s remaining, 866.4 samples/s]         \n",
      "Dataset 'coco-2017-train-2000' created\n",
      "Directory './' already exists; export will be merged with existing files\n",
      " 100% |█████████████████| 960/960 [4.5s elapsed, 0s remaining, 198.4 samples/s]      \n",
      "Downloading split 'train' to 'C:\\Users\\andy.kim\\fiftyone\\coco-2017\\train' if necessary\n",
      "Found annotations at 'C:\\Users\\andy.kim\\fiftyone\\coco-2017\\raw\\instances_train2017.json'\n",
      "11 images found; downloading the remaining 1989\n",
      " 100% |████████████████| 1989/1989 [4.4m elapsed, 0s remaining, 8.7 images/s]       \n",
      "Writing annotations for 6789 downloaded samples to 'C:\\Users\\andy.kim\\fiftyone\\coco-2017\\train\\labels.json'\n",
      "Dataset info written to 'C:\\Users\\andy.kim\\fiftyone\\coco-2017\\info.json'\n",
      "Loading 'coco-2017' split 'train'\n",
      " 100% |███████████████| 2000/2000 [2.3s elapsed, 0s remaining, 847.9 samples/s]      \n",
      "Dataset 'coco-2017-train-2000' created\n",
      "Directory './' already exists; export will be merged with existing files\n",
      " 100% |███████████████| 2000/2000 [15.8s elapsed, 0s remaining, 58.3 samples/s]       \n",
      "Downloading split 'train' to 'C:\\Users\\andy.kim\\fiftyone\\coco-2017\\train' if necessary\n",
      "Found annotations at 'C:\\Users\\andy.kim\\fiftyone\\coco-2017\\raw\\instances_train2017.json'\n",
      "245 images found; downloading the remaining 1755\n",
      " 100% |████████████████| 1755/1755 [4.1m elapsed, 0s remaining, 6.5 images/s]      \n",
      "Writing annotations for 8544 downloaded samples to 'C:\\Users\\andy.kim\\fiftyone\\coco-2017\\train\\labels.json'\n",
      "Dataset info written to 'C:\\Users\\andy.kim\\fiftyone\\coco-2017\\info.json'\n",
      "Loading 'coco-2017' split 'train'\n",
      " 100% |███████████████| 2000/2000 [2.3s elapsed, 0s remaining, 914.1 samples/s]      \n",
      "Dataset 'coco-2017-train-2000' created\n",
      "Directory './' already exists; export will be merged with existing files\n",
      " 100% |███████████████| 2000/2000 [12.2s elapsed, 0s remaining, 111.9 samples/s]      \n"
     ]
    }
   ],
   "source": [
    "\n",
    "load_class_from_coco(\"cow\", 2000)\n",
    "\n",
    "load_class_from_coco(\"horse\", 2000)\n",
    "load_class_from_coco(\"bear\", 2000)\n",
    "load_class_from_coco(\"cat\", 2000)\n",
    "load_class_from_coco(\"dog\", 2000)\n"
   ]
  },
  {
   "cell_type": "code",
   "execution_count": 21,
   "metadata": {},
   "outputs": [
    {
     "name": "stdout",
     "output_type": "stream",
     "text": [
      "cow\n",
      "horse\n",
      "bear\n",
      "cat\n",
      "dog\n",
      "deer\n",
      "moose\n"
     ]
    }
   ],
   "source": [
    "import os\n",
    "\n",
    "# rewrite images.txt and obj.names\n",
    "with open(\"obj.names\", \"w\") as fout:\n",
    "    for cls_name in class_labels.keys():\n",
    "        print(cls_name)\n",
    "        fout.write(cls_name+\"\\n\")\n",
    "\n",
    "file_names = os.listdir(mv_dir)\n",
    "with open(\"images.txt\", \"w\") as fout:\n",
    "    for fname in file_names:\n",
    "        if \".jpg\" in fname:\n",
    "            fout.write(mv_dir+fname+\"\\n\")"
   ]
  },
  {
   "cell_type": "code",
   "execution_count": 3,
   "metadata": {},
   "outputs": [
    {
     "name": "stdout",
     "output_type": "stream",
     "text": [
      " 100% |█████████████| 12088/12088 [59.4s elapsed, 0s remaining, 336.5 samples/s]      \n"
     ]
    }
   ],
   "source": [
    "# retry if error happens\n",
    "import os\n",
    "import fiftyone as fo\n",
    "import fiftyone.zoo as foz\n",
    "\n",
    "out_dir = \"./\"\n",
    "mv_dir = \"./roadkill/\"\n",
    "data_dir = \"./data/\"\n",
    "\n",
    "dataset_dir = out_dir\n",
    "\n",
    "# The type of the dataset being imported\n",
    "dataset_type = fo.types.YOLOv4Dataset  # for example\n",
    "\n",
    "# Import the dataset\n",
    "dataset = fo.Dataset.from_dir(\n",
    "    dataset_dir=dataset_dir,\n",
    "    dataset_type=dataset_type,\n",
    ")\n",
    "\n",
    "\n",
    "#dataset.delete()"
   ]
  },
  {
   "cell_type": "code",
   "execution_count": 4,
   "metadata": {},
   "outputs": [
    {
     "name": "stdout",
     "output_type": "stream",
     "text": [
      "Name:        2022.09.17.22.52.44\n",
      "Media type:  image\n",
      "Num samples: 12088\n",
      "Persistent:  False\n",
      "Tags:        []\n",
      "Sample fields:\n",
      "    id:           fiftyone.core.fields.ObjectIdField\n",
      "    filepath:     fiftyone.core.fields.StringField\n",
      "    tags:         fiftyone.core.fields.ListField(fiftyone.core.fields.StringField)\n",
      "    metadata:     fiftyone.core.fields.EmbeddedDocumentField(fiftyone.core.metadata.ImageMetadata)\n",
      "    ground_truth: fiftyone.core.fields.EmbeddedDocumentField(fiftyone.core.labels.Detections)\n"
     ]
    }
   ],
   "source": [
    "print(dataset)"
   ]
  },
  {
   "cell_type": "code",
   "execution_count": 5,
   "metadata": {},
   "outputs": [
    {
     "data": {
      "text/html": [
       "\n",
       "        <iframe\n",
       "            width=\"100%\"\n",
       "            height=\"800\"\n",
       "            src=\"http://localhost:5151/?context=ipython&subscription=b2835221-0f7a-47cc-9706-4be4800f7aa7\"\n",
       "            frameborder=\"0\"\n",
       "            allowfullscreen\n",
       "            \n",
       "        ></iframe>\n",
       "        "
      ],
      "text/plain": [
       "<IPython.lib.display.IFrame at 0x29fda7fb070>"
      ]
     },
     "metadata": {},
     "output_type": "display_data"
    }
   ],
   "source": [
    "\n",
    "session = fo.launch_app(dataset)"
   ]
  }
 ],
 "metadata": {
  "kernelspec": {
   "display_name": "Python 3",
   "language": "python",
   "name": "python3"
  },
  "language_info": {
   "codemirror_mode": {
    "name": "ipython",
    "version": 3
   },
   "file_extension": ".py",
   "mimetype": "text/x-python",
   "name": "python",
   "nbconvert_exporter": "python",
   "pygments_lexer": "ipython3",
   "version": "3.8.10 (default, Jun 22 2022, 20:18:18) \n[GCC 9.4.0]"
  },
  "orig_nbformat": 4,
  "vscode": {
   "interpreter": {
    "hash": "916dbcbb3f70747c44a77c7bcd40155683ae19c65e1c03b4aa3499c5328201f1"
   }
  }
 },
 "nbformat": 4,
 "nbformat_minor": 2
}
